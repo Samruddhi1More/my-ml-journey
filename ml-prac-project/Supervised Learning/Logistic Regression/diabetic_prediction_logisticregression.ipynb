{
  "nbformat": 4,
  "nbformat_minor": 0,
  "metadata": {
    "colab": {
      "provenance": [],
      "gpuType": "T4"
    },
    "kernelspec": {
      "name": "python3",
      "display_name": "Python 3"
    },
    "language_info": {
      "name": "python"
    },
    "accelerator": "GPU"
  },
  "cells": [
    {
      "cell_type": "code",
      "execution_count": 19,
      "metadata": {
        "id": "7y0rE_XCkJ56"
      },
      "outputs": [],
      "source": [
        "import pandas as pd\n",
        "from sklearn.model_selection import train_test_split\n",
        "from sklearn.linear_model import LogisticRegression\n",
        "from sklearn import metrics\n",
        "import numpy as np\n",
        "import matplotlib.pyplot as plt\n",
        "import seaborn as sns\n",
        "from sklearn.metrics import classification_report"
      ]
    },
    {
      "cell_type": "code",
      "source": [],
      "metadata": {
        "id": "7fniUyUioqRL"
      },
      "execution_count": null,
      "outputs": []
    },
    {
      "cell_type": "markdown",
      "source": [
        "### Loading Dataset"
      ],
      "metadata": {
        "id": "YHr8oNFrlf32"
      }
    },
    {
      "cell_type": "code",
      "source": [
        "df = pd.read_csv(\"/content/diabetes.csv\")"
      ],
      "metadata": {
        "id": "cFRMYWrQkM_I"
      },
      "execution_count": 2,
      "outputs": []
    },
    {
      "cell_type": "code",
      "source": [
        "df.columns"
      ],
      "metadata": {
        "colab": {
          "base_uri": "https://localhost:8080/"
        },
        "id": "-QcTGl2Ckaa-",
        "outputId": "c612c5e4-791a-4315-cc11-e422473d12ad"
      },
      "execution_count": 3,
      "outputs": [
        {
          "output_type": "execute_result",
          "data": {
            "text/plain": [
              "Index(['Pregnancies', 'Glucose', 'BloodPressure', 'SkinThickness', 'Insulin',\n",
              "       'BMI', 'DiabetesPedigreeFunction', 'Age', 'Outcome'],\n",
              "      dtype='object')"
            ]
          },
          "metadata": {},
          "execution_count": 3
        }
      ]
    },
    {
      "cell_type": "code",
      "source": [
        "feature_col = ['Pregnancies', 'Glucose', 'BloodPressure', 'SkinThickness', 'Insulin',\n",
        "       'BMI', 'DiabetesPedigreeFunction', 'Age']"
      ],
      "metadata": {
        "id": "TPW2E6HnkiGs"
      },
      "execution_count": 4,
      "outputs": []
    },
    {
      "cell_type": "markdown",
      "source": [
        "### Selecting features"
      ],
      "metadata": {
        "id": "sxNtbhK7lXlW"
      }
    },
    {
      "cell_type": "code",
      "source": [
        "X = df[feature_col]\n",
        "Y = df.Outcome #Target variable"
      ],
      "metadata": {
        "id": "6MGHKMIiloV5"
      },
      "execution_count": 5,
      "outputs": []
    },
    {
      "cell_type": "markdown",
      "source": [
        "### Splitting Data"
      ],
      "metadata": {
        "id": "9GQuSxf6l_ki"
      }
    },
    {
      "cell_type": "code",
      "source": [
        "X_train, X_test, y_train, y_test = train_test_split(X, Y, test_size=0.25, random_state=16)\n",
        "#75% : to train\n",
        "#25 %: to test\n",
        "#random_state : to select records randomly, to help maintain consistant result"
      ],
      "metadata": {
        "id": "a0rzFCW9l-Xf"
      },
      "execution_count": 6,
      "outputs": []
    },
    {
      "cell_type": "markdown",
      "source": [
        "### Model development and Prediction"
      ],
      "metadata": {
        "id": "M53PqAYlnvf_"
      }
    },
    {
      "cell_type": "code",
      "source": [
        "logreg = LogisticRegression(random_state=16) #classifier object\n",
        "\n",
        "logreg.fit(X_train, y_train) #model training\n",
        "\n",
        "predict = logreg.predict(X_test) #model prediction"
      ],
      "metadata": {
        "colab": {
          "base_uri": "https://localhost:8080/"
        },
        "id": "eJWnLzzRmxKE",
        "outputId": "7997f0ba-e05a-4b3e-d9b3-cd38ffc3daf1"
      },
      "execution_count": 7,
      "outputs": [
        {
          "output_type": "stream",
          "name": "stderr",
          "text": [
            "/usr/local/lib/python3.11/dist-packages/sklearn/linear_model/_logistic.py:465: ConvergenceWarning: lbfgs failed to converge (status=1):\n",
            "STOP: TOTAL NO. of ITERATIONS REACHED LIMIT.\n",
            "\n",
            "Increase the number of iterations (max_iter) or scale the data as shown in:\n",
            "    https://scikit-learn.org/stable/modules/preprocessing.html\n",
            "Please also refer to the documentation for alternative solver options:\n",
            "    https://scikit-learn.org/stable/modules/linear_model.html#logistic-regression\n",
            "  n_iter_i = _check_optimize_result(\n"
          ]
        }
      ]
    },
    {
      "cell_type": "markdown",
      "source": [
        "### Model Evaluation using Confusion Matrix"
      ],
      "metadata": {
        "id": "sD6QdSiIokJE"
      }
    },
    {
      "cell_type": "code",
      "source": [
        "cnf = metrics.confusion_matrix(y_test, predict)\n",
        "cnf"
      ],
      "metadata": {
        "colab": {
          "base_uri": "https://localhost:8080/"
        },
        "id": "LrTtxetyoTG-",
        "outputId": "7782b0ae-d347-4068-f4a2-ceebafb62554"
      },
      "execution_count": 9,
      "outputs": [
        {
          "output_type": "execute_result",
          "data": {
            "text/plain": [
              "array([[116,   9],\n",
              "       [ 26,  41]])"
            ]
          },
          "metadata": {},
          "execution_count": 9
        }
      ]
    },
    {
      "cell_type": "markdown",
      "source": [
        "### Visualizing the Confusion Matrix"
      ],
      "metadata": {
        "id": "4iGHeIO7paS7"
      }
    },
    {
      "cell_type": "code",
      "source": [
        "class_names = [0,1]\n",
        "fig, ax = plt.subplots()\n",
        "tick_marks = np.arange(len(class_names))\n",
        "plt.xticks(tick_marks, class_names)\n",
        "plt.yticks(tick_marks, class_names)\n",
        "#heatmap\n",
        "sns.heatmap(pd.DataFrame(cnf) , annot=True, cmap=\"YlGnBu\", fmt='g')\n",
        "ax.xaxis.set_label_position(\"top\")\n",
        "plt.tight_layout()\n",
        "plt.title('Confusion Matrix', y=1.1)\n",
        "plt.ylabel('Actual label')\n",
        "plt.xlabel('Predicted label')\n",
        "\n",
        "# Text(0.5,257.44,'Predicted label');\n",
        "\n",
        "# import required modules\n",
        "# import numpy as np\n",
        "# import matplotlib.pyplot as plt\n",
        "# import seaborn as sns\n",
        "\n",
        "# class_names=[0,1] # name  of classes\n",
        "# fig, ax = plt.subplots()\n",
        "# tick_marks = np.arange(len(class_names))\n",
        "# plt.xticks(tick_marks, class_names)\n",
        "# plt.yticks(tick_marks, class_names)\n",
        "# # create heatmap\n",
        "# sns.heatmap(pd.DataFrame(cnf), annot=True, cmap=\"YlGnBu\" ,fmt='g')\n",
        "# ax.xaxis.set_label_position(\"top\")\n",
        "# plt.tight_layout()\n",
        "# plt.title('Confusion matrix', y=1.1)\n",
        "# plt.ylabel('Actual label')\n",
        "# plt.xlabel('Predicted label')\n",
        "\n",
        "# Text(0.5,257.44,'Predicted label');"
      ],
      "metadata": {
        "colab": {
          "base_uri": "https://localhost:8080/",
          "height": 568
        },
        "id": "oN-tbE90o6aq",
        "outputId": "e5d9b789-617d-4fff-ec80-d86ee9874ded"
      },
      "execution_count": 17,
      "outputs": [
        {
          "output_type": "execute_result",
          "data": {
            "text/plain": [
              "Text(0.5, 427.9555555555555, 'Predicted label')"
            ]
          },
          "metadata": {},
          "execution_count": 17
        },
        {
          "output_type": "display_data",
          "data": {
            "text/plain": [
              "<Figure size 640x480 with 2 Axes>"
            ],
            "image/png": "[encoded data removed]"
          },
          "metadata": {}
        }
      ]
    },
    {
      "cell_type": "markdown",
      "source": [
        "### Evaluation Metrics"
      ],
      "metadata": {
        "id": "SEWoxNWirprX"
      }
    },
    {
      "cell_type": "code",
      "source": [
        "target_names = [\"Without diabeties\", \"With diabeties\"]\n",
        "print(classification_report(y_test, predict, target_names = target_names))"
      ],
      "metadata": {
        "colab": {
          "base_uri": "https://localhost:8080/"
        },
        "id": "OzcF1Wxwqxgq",
        "outputId": "9dc12c05-91f9-4411-bea1-64616c2ced57"
      },
      "execution_count": 21,
      "outputs": [
        {
          "output_type": "stream",
          "name": "stdout",
          "text": [
            "                   precision    recall  f1-score   support\n",
            "\n",
            "Without diabeties       0.82      0.93      0.87       125\n",
            "   With diabeties       0.82      0.61      0.70        67\n",
            "\n",
            "         accuracy                           0.82       192\n",
            "        macro avg       0.82      0.77      0.78       192\n",
            "     weighted avg       0.82      0.82      0.81       192\n",
            "\n"
          ]
        }
      ]
    },
    {
      "cell_type": "code",
      "source": [],
      "metadata": {
        "id": "F2caN9KqsTAb"
      },
      "execution_count": null,
      "outputs": []
    }
  ]
}